{
 "cells": [
  {
   "cell_type": "code",
   "execution_count": 2,
   "id": "d4c8ad0f",
   "metadata": {},
   "outputs": [],
   "source": [
    "import json, config, logging\n",
    "from flask import Flask, request, jsonify, render_template\n",
    "from binance.client import Client\n",
    "from binance.enums import *\n",
    "import pandas as pd\n",
    "from binance.helpers import round_step_size\n",
    "from telethon import TelegramClient, events, sync\n",
    "from pymongo import MongoClient\n",
    "from pprint import pprint"
   ]
  },
  {
   "cell_type": "code",
   "execution_count": 3,
   "id": "6af0a60e",
   "metadata": {},
   "outputs": [],
   "source": [
    "database = MongoClient()"
   ]
  },
  {
   "cell_type": "code",
   "execution_count": 4,
   "id": "7de98c51",
   "metadata": {},
   "outputs": [
    {
     "name": "stdout",
     "output_type": "stream",
     "text": [
      "Database(MongoClient(host=['localhost:27017'], document_class=dict, tz_aware=False, connect=True), 'scalper')\n"
     ]
    }
   ],
   "source": [
    "db=database.scalper\n",
    "print(db)"
   ]
  },
  {
   "cell_type": "code",
   "execution_count": 6,
   "id": "12338786",
   "metadata": {},
   "outputs": [],
   "source": [
    "position1=db.position\n",
    "data=[None]*10\n",
    "new_position={\n",
    "    'id':1,\n",
    "    'symbol':'SANDUSDT',\n",
    "    'data':data\n",
    "}\n",
    "\n",
    "add_new_p=position1.insert_one(new_position)"
   ]
  },
  {
   "cell_type": "code",
   "execution_count": 8,
   "id": "c620474c",
   "metadata": {
    "scrolled": true
   },
   "outputs": [
    {
     "name": "stdout",
     "output_type": "stream",
     "text": [
      "{'_id': ObjectId('61b41303f199de756012726c'), 'id': 1, 'symbol': 'SANDUSDT', 'data': [None, None, None, None, None, None, None, None, None, None]}\n"
     ]
    }
   ],
   "source": [
    "\n",
    "Queryresult =position1.find_one({'id':1})\n",
    "\n",
    "if Queryresult!=None:\n",
    "    print(Queryresult)"
   ]
  },
  {
   "cell_type": "code",
   "execution_count": null,
   "id": "d0e12461",
   "metadata": {},
   "outputs": [],
   "source": []
  },
  {
   "cell_type": "code",
   "execution_count": null,
   "id": "3f29b6f9",
   "metadata": {},
   "outputs": [],
   "source": []
  },
  {
   "cell_type": "code",
   "execution_count": null,
   "id": "6031e567",
   "metadata": {},
   "outputs": [],
   "source": []
  }
 ],
 "metadata": {
  "kernelspec": {
   "display_name": "Python 3 (ipykernel)",
   "language": "python",
   "name": "python3"
  },
  "language_info": {
   "codemirror_mode": {
    "name": "ipython",
    "version": 3
   },
   "file_extension": ".py",
   "mimetype": "text/x-python",
   "name": "python",
   "nbconvert_exporter": "python",
   "pygments_lexer": "ipython3",
   "version": "3.8.10"
  }
 },
 "nbformat": 4,
 "nbformat_minor": 5
}
